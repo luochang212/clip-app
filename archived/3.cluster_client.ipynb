{
 "cells": [
  {
   "cell_type": "markdown",
   "id": "49a7662a-5afa-4ae8-98c0-f4ab19627131",
   "metadata": {},
   "source": [
    "# Cluster Client"
   ]
  },
  {
   "cell_type": "code",
   "execution_count": 1,
   "id": "3a89e7d3-03d1-437e-a744-14c6a9ff2474",
   "metadata": {
    "execution": {
     "iopub.execute_input": "2024-12-21T13:09:19.113365Z",
     "iopub.status.busy": "2024-12-21T13:09:19.113365Z",
     "iopub.status.idle": "2024-12-21T13:09:19.118977Z",
     "shell.execute_reply": "2024-12-21T13:09:19.118977Z",
     "shell.execute_reply.started": "2024-12-21T13:09:19.113365Z"
    }
   },
   "outputs": [],
   "source": [
    "# !pip install river"
   ]
  },
  {
   "cell_type": "code",
   "execution_count": 2,
   "id": "0a48cbd7-dcb0-4cdc-8f2c-1c461695de87",
   "metadata": {
    "execution": {
     "iopub.execute_input": "2024-12-21T13:09:19.118977Z",
     "iopub.status.busy": "2024-12-21T13:09:19.118977Z",
     "iopub.status.idle": "2024-12-21T13:09:19.436012Z",
     "shell.execute_reply": "2024-12-21T13:09:19.436012Z",
     "shell.execute_reply.started": "2024-12-21T13:09:19.118977Z"
    }
   },
   "outputs": [],
   "source": [
    "import random\n",
    "import requests\n",
    "import json\n",
    "import numpy as np"
   ]
  },
  {
   "cell_type": "code",
   "execution_count": 3,
   "id": "accacddc-8a92-4d4e-89fe-292d9c96e425",
   "metadata": {
    "execution": {
     "iopub.execute_input": "2024-12-21T13:09:19.436012Z",
     "iopub.status.busy": "2024-12-21T13:09:19.436012Z",
     "iopub.status.idle": "2024-12-21T13:09:19.440517Z",
     "shell.execute_reply": "2024-12-21T13:09:19.440517Z",
     "shell.execute_reply.started": "2024-12-21T13:09:19.436012Z"
    }
   },
   "outputs": [],
   "source": [
    "BASE_URL = \"http://127.0.0.1:8000\""
   ]
  },
  {
   "cell_type": "code",
   "execution_count": 4,
   "id": "58e08103-bad5-444e-b6e0-a2ea60b410a5",
   "metadata": {
    "execution": {
     "iopub.execute_input": "2024-12-21T13:09:19.440517Z",
     "iopub.status.busy": "2024-12-21T13:09:19.440517Z",
     "iopub.status.idle": "2024-12-21T13:09:19.448710Z",
     "shell.execute_reply": "2024-12-21T13:09:19.448710Z",
     "shell.execute_reply.started": "2024-12-21T13:09:19.440517Z"
    }
   },
   "outputs": [],
   "source": [
    "def test_home():\n",
    "    response = requests.get(f\"{BASE_URL}/\")\n",
    "    if response.status_code == 200:\n",
    "        print(\"Index Response:\", response.json())\n",
    "    else:\n",
    "        print(f\"Faiss server is not ready. Status code: {response.status_code}\")\n",
    "\n",
    "def train_client(id, vector):\n",
    "    payload = {\"id\": id, \"vector\": vector}\n",
    "    response = requests.post(f\"{BASE_URL}/train\", json=payload)\n",
    "    if response.status_code == 200:\n",
    "        print(\"Train Response:\", response.json())\n",
    "    else:\n",
    "        print(f\"Cluster server is not ready. Status code: {response.status_code}\")\n",
    "        print(\"Response content:\", response.text)\n",
    "\n",
    "def search_client(id, vector=[0.0]):\n",
    "    payload = {\"id\": id, \"vector\": vector}\n",
    "    response = requests.post(f\"{BASE_URL}/search\", json=payload)\n",
    "    if response.status_code == 200:\n",
    "        print(\"Search Response:\", response.json())\n",
    "    else:\n",
    "        print(f\"Cluster server is not ready. status_code: {response.status_code}\")\n",
    "\n",
    "# 生成一个样本的函数\n",
    "def generate_sample(id: str):\n",
    "    elem = random.choice([[5, 5], [-1, -5], [5, -3], [-2.5, 5], [0, 0]])\n",
    "    return {\n",
    "        \"id\": id,\n",
    "        \"vector\": (np.random.randn(1, 2)[0] + np.array(elem)).tolist()\n",
    "    }"
   ]
  },
  {
   "cell_type": "code",
   "execution_count": 5,
   "id": "31963d96-add5-4dd0-ae2e-9b554c3259ad",
   "metadata": {
    "execution": {
     "iopub.execute_input": "2024-12-21T13:09:19.448710Z",
     "iopub.status.busy": "2024-12-21T13:09:19.448710Z",
     "iopub.status.idle": "2024-12-21T13:09:19.463268Z",
     "shell.execute_reply": "2024-12-21T13:09:19.462463Z",
     "shell.execute_reply.started": "2024-12-21T13:09:19.448710Z"
    }
   },
   "outputs": [
    {
     "name": "stdout",
     "output_type": "stream",
     "text": [
      "Index Response: {'app_name': 'embedding-server'}\n"
     ]
    }
   ],
   "source": [
    "test_home()"
   ]
  },
  {
   "cell_type": "code",
   "execution_count": 6,
   "id": "fe4ff7c2-cc35-4582-829d-38ac0ff7f7e7",
   "metadata": {
    "execution": {
     "iopub.execute_input": "2024-12-21T13:09:19.463268Z",
     "iopub.status.busy": "2024-12-21T13:09:19.463268Z",
     "iopub.status.idle": "2024-12-21T13:09:19.473129Z",
     "shell.execute_reply": "2024-12-21T13:09:19.473129Z",
     "shell.execute_reply.started": "2024-12-21T13:09:19.463268Z"
    }
   },
   "outputs": [
    {
     "name": "stdout",
     "output_type": "stream",
     "text": [
      "Cluster server is not ready. Status code: 404\n",
      "Response content: {\"detail\":\"Not Found\"}\n"
     ]
    }
   ],
   "source": [
    "query_data = {\n",
    "    \"id\": \"test\",\n",
    "    \"vector\": [0.1, 0.2]\n",
    "}\n",
    "train_client(**query_data)"
   ]
  },
  {
   "cell_type": "code",
   "execution_count": 7,
   "id": "92c74b30-de7d-4b19-a8fb-0b9b929d2f34",
   "metadata": {
    "execution": {
     "iopub.execute_input": "2024-12-21T13:09:19.473129Z",
     "iopub.status.busy": "2024-12-21T13:09:19.473129Z",
     "iopub.status.idle": "2024-12-21T13:09:19.547080Z",
     "shell.execute_reply": "2024-12-21T13:09:19.547080Z",
     "shell.execute_reply.started": "2024-12-21T13:09:19.473129Z"
    }
   },
   "outputs": [
    {
     "name": "stdout",
     "output_type": "stream",
     "text": [
      "Cluster server is not ready. Status code: 404\n",
      "Response content: {\"detail\":\"Not Found\"}\n",
      "Cluster server is not ready. Status code: 404\n",
      "Response content: {\"detail\":\"Not Found\"}\n",
      "Cluster server is not ready. Status code: 404\n",
      "Response content: {\"detail\":\"Not Found\"}\n",
      "Cluster server is not ready. Status code: 404\n",
      "Response content: {\"detail\":\"Not Found\"}\n",
      "Cluster server is not ready. Status code: 404\n",
      "Response content: {\"detail\":\"Not Found\"}\n",
      "Cluster server is not ready. Status code: 404\n",
      "Response content: {\"detail\":\"Not Found\"}\n",
      "Cluster server is not ready. Status code: 404\n",
      "Response content: {\"detail\":\"Not Found\"}\n",
      "Cluster server is not ready. Status code: 404\n",
      "Response content: {\"detail\":\"Not Found\"}\n",
      "Cluster server is not ready. Status code: 404\n",
      "Response content: {\"detail\":\"Not Found\"}\n",
      "Cluster server is not ready. Status code: 404\n",
      "Response content: {\"detail\":\"Not Found\"}\n",
      "Cluster server is not ready. Status code: 404\n",
      "Response content: {\"detail\":\"Not Found\"}\n",
      "Cluster server is not ready. Status code: 404\n",
      "Response content: {\"detail\":\"Not Found\"}\n",
      "Cluster server is not ready. Status code: 404\n",
      "Response content: {\"detail\":\"Not Found\"}\n",
      "Cluster server is not ready. Status code: 404\n",
      "Response content: {\"detail\":\"Not Found\"}\n",
      "Cluster server is not ready. Status code: 404\n",
      "Response content: {\"detail\":\"Not Found\"}\n",
      "Cluster server is not ready. Status code: 404\n",
      "Response content: {\"detail\":\"Not Found\"}\n",
      "Cluster server is not ready. Status code: 404\n",
      "Response content: {\"detail\":\"Not Found\"}\n",
      "Cluster server is not ready. Status code: 404\n",
      "Response content: {\"detail\":\"Not Found\"}\n",
      "Cluster server is not ready. Status code: 404\n",
      "Response content: {\"detail\":\"Not Found\"}\n",
      "Cluster server is not ready. Status code: 404\n",
      "Response content: {\"detail\":\"Not Found\"}\n"
     ]
    }
   ],
   "source": [
    "# 生成 20 个样本\n",
    "samples = [generate_sample(f\"sample_{i+1}\") for i in range(20)]\n",
    "for sample in samples:\n",
    "    train_client(**sample)"
   ]
  },
  {
   "cell_type": "code",
   "execution_count": 8,
   "id": "b8251614-7148-4bac-8b0b-86e67172586f",
   "metadata": {
    "execution": {
     "iopub.execute_input": "2024-12-21T13:09:20.729559Z",
     "iopub.status.busy": "2024-12-21T13:09:20.729559Z",
     "iopub.status.idle": "2024-12-21T13:09:20.740862Z",
     "shell.execute_reply": "2024-12-21T13:09:20.740374Z",
     "shell.execute_reply.started": "2024-12-21T13:09:20.729559Z"
    }
   },
   "outputs": [
    {
     "name": "stdout",
     "output_type": "stream",
     "text": [
      "Cluster server is not ready. status_code: 404\n"
     ]
    }
   ],
   "source": [
    "search_client(id=samples[-1]['id'])"
   ]
  },
  {
   "cell_type": "code",
   "execution_count": null,
   "id": "4db38f23-5d43-49d4-9685-134d889e8ee9",
   "metadata": {},
   "outputs": [],
   "source": []
  }
 ],
 "metadata": {
  "kernelspec": {
   "display_name": "Python 3 (ipykernel)",
   "language": "python",
   "name": "python3"
  },
  "language_info": {
   "codemirror_mode": {
    "name": "ipython",
    "version": 3
   },
   "file_extension": ".py",
   "mimetype": "text/x-python",
   "name": "python",
   "nbconvert_exporter": "python",
   "pygments_lexer": "ipython3",
   "version": "3.12.3"
  }
 },
 "nbformat": 4,
 "nbformat_minor": 5
}
