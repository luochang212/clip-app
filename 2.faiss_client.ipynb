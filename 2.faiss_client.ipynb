{
 "cells": [
  {
   "cell_type": "markdown",
   "id": "2466a728-33ee-4ead-bffa-f26a8b6e0522",
   "metadata": {
    "execution": {
     "iopub.execute_input": "2024-12-05T06:52:23.846430Z",
     "iopub.status.busy": "2024-12-05T06:52:23.845706Z",
     "iopub.status.idle": "2024-12-05T06:52:23.850755Z",
     "shell.execute_reply": "2024-12-05T06:52:23.849697Z",
     "shell.execute_reply.started": "2024-12-05T06:52:23.846365Z"
    }
   },
   "source": [
    "# Faiss 向量搜索\n",
    "\n",
    "运行以下代码前，需要先开启 Faiss 服务：\n",
    "\n",
    "```bash\n",
    "cd faiss\n",
    "uvicorn server:app --port 8383\n",
    "```"
   ]
  },
  {
   "cell_type": "code",
   "execution_count": 1,
   "id": "64947f5d-68f6-45ea-8146-3bcdcae3e00d",
   "metadata": {
    "execution": {
     "iopub.execute_input": "2024-12-21T19:45:33.314284Z",
     "iopub.status.busy": "2024-12-21T19:45:33.313284Z",
     "iopub.status.idle": "2024-12-21T19:45:33.317267Z",
     "shell.execute_reply": "2024-12-21T19:45:33.316752Z",
     "shell.execute_reply.started": "2024-12-21T19:45:33.314284Z"
    }
   },
   "outputs": [],
   "source": [
    "# !pip install fastapi uvicorn numpy\n",
    "# !conda install -c pytorch faiss-cpu\n",
    "# !conda install -c pytorch faiss-gpu"
   ]
  },
  {
   "cell_type": "code",
   "execution_count": 2,
   "id": "91d3ff2c-7762-4549-b794-ec9cba08c1ad",
   "metadata": {
    "execution": {
     "iopub.execute_input": "2024-12-21T19:45:33.318349Z",
     "iopub.status.busy": "2024-12-21T19:45:33.317267Z",
     "iopub.status.idle": "2024-12-21T19:45:33.600191Z",
     "shell.execute_reply": "2024-12-21T19:45:33.599625Z",
     "shell.execute_reply.started": "2024-12-21T19:45:33.318349Z"
    }
   },
   "outputs": [],
   "source": [
    "import requests\n",
    "import numpy as np"
   ]
  },
  {
   "cell_type": "code",
   "execution_count": 3,
   "id": "d3d287e9-1621-4707-9b81-6d3e379e2585",
   "metadata": {
    "execution": {
     "iopub.execute_input": "2024-12-21T19:45:33.601266Z",
     "iopub.status.busy": "2024-12-21T19:45:33.601266Z",
     "iopub.status.idle": "2024-12-21T19:45:33.605105Z",
     "shell.execute_reply": "2024-12-21T19:45:33.604574Z",
     "shell.execute_reply.started": "2024-12-21T19:45:33.601266Z"
    }
   },
   "outputs": [],
   "source": [
    "BASE_URL = \"http://127.0.0.1:8383\"\n",
    "DIMENSION = 512"
   ]
  },
  {
   "cell_type": "code",
   "execution_count": 4,
   "id": "f5cef646-2a6f-4868-8bd8-3aca175b1834",
   "metadata": {
    "execution": {
     "iopub.execute_input": "2024-12-21T19:45:33.606160Z",
     "iopub.status.busy": "2024-12-21T19:45:33.606160Z",
     "iopub.status.idle": "2024-12-21T19:45:33.612704Z",
     "shell.execute_reply": "2024-12-21T19:45:33.612254Z",
     "shell.execute_reply.started": "2024-12-21T19:45:33.606160Z"
    }
   },
   "outputs": [],
   "source": [
    "def test_home():\n",
    "    \"\"\"测试首页\"\"\"\n",
    "    response = requests.get(f\"{BASE_URL}/\")\n",
    "    if response.status_code == 200:\n",
    "        return response.json()\n",
    "    else:\n",
    "        print(f\"Status code: {response.status_code}\")\n",
    "        print(f\"Response content: {response.text}\")\n",
    "    return {}\n",
    "\n",
    "def test_info():\n",
    "    \"\"\"测试获取索引信息\"\"\"\n",
    "    response = requests.get(f\"{BASE_URL}/info\")\n",
    "    if response.status_code == 200:\n",
    "        return response.json()\n",
    "    else:\n",
    "        print(f\"Status code: {response.status_code}\")\n",
    "        print(f\"Response content: {response.text}\")\n",
    "    return {}\n",
    "\n",
    "def add_embedding(vid, vector):\n",
    "    \"\"\"测试添加向量\"\"\"\n",
    "    payload = {\"id\": vid, \"vector\": vector}\n",
    "    response = requests.post(f\"{BASE_URL}/add\", json=payload)\n",
    "    if response.status_code == 200:\n",
    "        return response.json()\n",
    "    else:\n",
    "        print(f\"Status code: {response.status_code}\")\n",
    "        print(f\"Response content: {response.text}\")\n",
    "    return {}\n",
    "\n",
    "def search_embedding(vector, top_k=5):\n",
    "    \"\"\"测试检索向量\"\"\"\n",
    "    payload = {\"vector\": vector, \"top_k\": top_k}\n",
    "    response = requests.post(f\"{BASE_URL}/search\", json=payload)\n",
    "    if response.status_code == 200:\n",
    "        return response.json()\n",
    "    else:\n",
    "        print(f\"Status code: {response.status_code}\")\n",
    "        print(f\"Response content: {response.text}\")\n",
    "    return {}\n",
    "\n",
    "def generate_random_vector(dimension):\n",
    "    \"\"\"生成随机向量\"\"\"\n",
    "    return np.random.rand(dimension).tolist()"
   ]
  },
  {
   "cell_type": "code",
   "execution_count": 5,
   "id": "9fc9cb52-1246-41d8-8aee-14f3cb1c8543",
   "metadata": {
    "execution": {
     "iopub.execute_input": "2024-12-21T19:45:33.612704Z",
     "iopub.status.busy": "2024-12-21T19:45:33.612704Z",
     "iopub.status.idle": "2024-12-21T19:45:33.631432Z",
     "shell.execute_reply": "2024-12-21T19:45:33.630926Z",
     "shell.execute_reply.started": "2024-12-21T19:45:33.612704Z"
    }
   },
   "outputs": [
    {
     "data": {
      "text/plain": [
       "{'app_name': 'faiss-server'}"
      ]
     },
     "execution_count": 5,
     "metadata": {},
     "output_type": "execute_result"
    }
   ],
   "source": [
    "# 测试首页\n",
    "test_home()"
   ]
  },
  {
   "cell_type": "code",
   "execution_count": 6,
   "id": "65978d21-b804-4e11-b57f-af39ae040d3c",
   "metadata": {
    "execution": {
     "iopub.execute_input": "2024-12-21T19:45:33.633245Z",
     "iopub.status.busy": "2024-12-21T19:45:33.633245Z",
     "iopub.status.idle": "2024-12-21T19:45:33.646841Z",
     "shell.execute_reply": "2024-12-21T19:45:33.646841Z",
     "shell.execute_reply.started": "2024-12-21T19:45:33.633245Z"
    }
   },
   "outputs": [
    {
     "data": {
      "text/plain": [
       "{'id': 'vector_2'}"
      ]
     },
     "execution_count": 6,
     "metadata": {},
     "output_type": "execute_result"
    }
   ],
   "source": [
    "# 测试添加向量\n",
    "vector1 = generate_random_vector(DIMENSION)\n",
    "add_embedding(\"vector_1\", vector1)\n",
    "\n",
    "vector2 = generate_random_vector(DIMENSION)\n",
    "add_embedding(\"vector_2\", vector2)"
   ]
  },
  {
   "cell_type": "code",
   "execution_count": 7,
   "id": "9dfb6f69-ed16-4a74-ac73-1c43d97e85e8",
   "metadata": {
    "execution": {
     "iopub.execute_input": "2024-12-21T19:45:33.646841Z",
     "iopub.status.busy": "2024-12-21T19:45:33.646841Z",
     "iopub.status.idle": "2024-12-21T19:45:33.659319Z",
     "shell.execute_reply": "2024-12-21T19:45:33.658675Z",
     "shell.execute_reply.started": "2024-12-21T19:45:33.646841Z"
    }
   },
   "outputs": [
    {
     "data": {
      "text/plain": [
       "dict_keys(['id', 'vector', 'distance'])"
      ]
     },
     "execution_count": 7,
     "metadata": {},
     "output_type": "execute_result"
    }
   ],
   "source": [
    "# 测试检索向量\n",
    "vector3 = generate_random_vector(DIMENSION)\n",
    "search_embd = search_embedding(vector3, top_k=1)\n",
    "search_embd.get('results')[0].keys()"
   ]
  },
  {
   "cell_type": "code",
   "execution_count": 8,
   "id": "3abe0948-3780-436f-ad49-ff348a3fd81c",
   "metadata": {
    "execution": {
     "iopub.execute_input": "2024-12-21T19:45:33.659836Z",
     "iopub.status.busy": "2024-12-21T19:45:33.659836Z",
     "iopub.status.idle": "2024-12-21T19:45:33.663611Z",
     "shell.execute_reply": "2024-12-21T19:45:33.663611Z",
     "shell.execute_reply.started": "2024-12-21T19:45:33.659836Z"
    }
   },
   "outputs": [
    {
     "data": {
      "text/plain": [
       "(512,)"
      ]
     },
     "execution_count": 8,
     "metadata": {},
     "output_type": "execute_result"
    }
   ],
   "source": [
    "np.array(search_embd.get('results')[0].get('vector')).shape"
   ]
  },
  {
   "cell_type": "code",
   "execution_count": 9,
   "id": "60f0270a-85a5-4af0-abd5-c720cb8fc125",
   "metadata": {
    "execution": {
     "iopub.execute_input": "2024-12-21T19:45:33.665617Z",
     "iopub.status.busy": "2024-12-21T19:45:33.664617Z",
     "iopub.status.idle": "2024-12-21T19:45:33.673966Z",
     "shell.execute_reply": "2024-12-21T19:45:33.673966Z",
     "shell.execute_reply.started": "2024-12-21T19:45:33.664617Z"
    }
   },
   "outputs": [
    {
     "data": {
      "text/plain": [
       "{'total_vectors': 2}"
      ]
     },
     "execution_count": 9,
     "metadata": {},
     "output_type": "execute_result"
    }
   ],
   "source": [
    "# 再次测试索引信息\n",
    "test_info()"
   ]
  },
  {
   "cell_type": "code",
   "execution_count": null,
   "id": "67654d00-2433-4889-a9f2-5d1e125cedec",
   "metadata": {},
   "outputs": [],
   "source": []
  }
 ],
 "metadata": {
  "kernelspec": {
   "display_name": "Python 3 (ipykernel)",
   "language": "python",
   "name": "python3"
  },
  "language_info": {
   "codemirror_mode": {
    "name": "ipython",
    "version": 3
   },
   "file_extension": ".py",
   "mimetype": "text/x-python",
   "name": "python",
   "nbconvert_exporter": "python",
   "pygments_lexer": "ipython3",
   "version": "3.12.3"
  }
 },
 "nbformat": 4,
 "nbformat_minor": 5
}
